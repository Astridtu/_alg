{
  "nbformat": 4,
  "nbformat_minor": 0,
  "metadata": {
    "colab": {
      "provenance": [],
      "authorship_tag": "ABX9TyPG8gMqyWYaAvtmur59htsr",
      "include_colab_link": true
    },
    "kernelspec": {
      "name": "python3",
      "display_name": "Python 3"
    },
    "language_info": {
      "name": "python"
    }
  },
  "cells": [
    {
      "cell_type": "markdown",
      "metadata": {
        "id": "view-in-github",
        "colab_type": "text"
      },
      "source": [
        "<a href=\"https://colab.research.google.com/github/Astridtu/_alg/blob/master/Alg_HW05.ipynb\" target=\"_parent\"><img src=\"https://colab.research.google.com/assets/colab-badge.svg\" alt=\"Open In Colab\"/></a>"
      ]
    },
    {
      "cell_type": "markdown",
      "source": [
        "提供的程式碼定義了一個函數halt(f, input) 和兩個範例函數f1 和f2。然而，對於停止問題的本質以及停止功能的目的存在誤解。\n"
      ],
      "metadata": {
        "id": "MXuI6Cq8YFJu"
      }
    },
    {
      "cell_type": "code",
      "source": [
        "def halt(f, input):\n",
        "    f(input)\n",
        "    return True\n"
      ],
      "metadata": {
        "id": "jfU_e-rnZOhO"
      },
      "execution_count": null,
      "outputs": []
    },
    {
      "cell_type": "markdown",
      "source": [
        "此函數呼叫 f(input)，使用參數 input 執行提供的函數 f。\n",
        "執行f(input)後，返回True。\n",
        "此實作只是假設 f 將終止，並且實際上並不確定它是否停止。如果 f 不停止（例如，如果它包含無限循環），它將掛起或崩潰。\n",
        "\n",
        "範例函數 f1 和 f2：\n",
        "\n",
        "f1 是一個計算輸入平方的簡單函數。它會因任何輸入而停止。\n",
        "f2 是一個具有巢狀循環的函數，迭代次數隨輸入呈指數成長。對於有限的輸入，它最終會停止，但對於大量的輸入，它可能需要很長時間。\n",
        "執行：\n",
        "\n",
        "當您呼叫halt(f1, 3)時，它將計算f1(3)（返回\n",
        "3\n",
        "×\n",
        "3\n",
        "=\n",
        "9\n",
        "3×3=9)然後返回True。\n",
        "當你呼叫halt(f2, 10)時，它將執行f2(10)中的巢狀循環並最終回到True。\n",
        "當您呼叫halt(f2, 1000)時，它將嘗試執行f2(1000)，但由於迭代的快速增長，可能會花費天文數字的時間（\n",
        "𝑛\n",
        "4\n",
        "n\n",
        "4\n",
        " ）。"
      ],
      "metadata": {
        "id": "U2LMfWpJZTWD"
      }
    },
    {
      "cell_type": "code",
      "source": [
        "halt(f1,3)= True\n",
        "halt(f2,10)= True\n"
      ],
      "metadata": {
        "id": "JU1DGXUeYjO3"
      },
      "execution_count": null,
      "outputs": []
    },
    {
      "cell_type": "markdown",
      "source": [
        "程式碼的輸出\n",
        "或halt(f2,1000)，程式將有效地掛起或花費不切實際的長時間來計算。"
      ],
      "metadata": {
        "id": "PuCjIct0Yks6"
      }
    },
    {
      "cell_type": "markdown",
      "source": [
        "為什麼停機問題無法解決\n",
        "停止問題是無法解決的，因為沒有通用演算法可以決定任意程式是否\n",
        "𝑃\n",
        "P 在所有可能的輸入上停止\n",
        "𝐼\n",
        "I. 這是一個高階解釋：\n",
        "\n",
        "自指悖論：如果假設存在一個函數 HALT(P, I) 來決定是否\n",
        "𝑃\n",
        "（\n",
        "𝐼\n",
        "）\n",
        "P(I) 停止：\n",
        "\n",
        "考慮一個程序 D，其行為如下：\n",
        "Python\n",
        "複製程式碼"
      ],
      "metadata": {
        "id": "0O_4ogTGYzKG"
      }
    },
    {
      "cell_type": "code",
      "source": [
        "def D():\n",
        "    if HALT(D, D):\n",
        "        while True: pass  # Infinite loop\n",
        "    else:\n",
        "        return True\n"
      ],
      "metadata": {
        "id": "NF3dBKdOY2dt"
      },
      "execution_count": null,
      "outputs": []
    },
    {
      "cell_type": "markdown",
      "source": [
        "如果 HALT(D, D) 傳回 True（即 D 停止），則 D 進入無限循環並且不會停止－這是一個矛盾。\n",
        "如果 HALT(D, D) 傳回 False（即 D 不停止），則 D 傳回並停止－矛盾。\n",
        "不可判定性：這個悖論表明不存在通用的 HALT 函數，因為它會導致邏輯不一致。\n",
        "\n",
        "結論\n",
        "程式碼中的暫停功能並不能解決暫停問題；它僅通過嘗試執行該函數來假設停止。這適用於停止程序，但對於不停止的程序會失敗（例如掛起），這與停止問題的不可解決性一致。"
      ],
      "metadata": {
        "id": "7B-JqbWfY6nt"
      }
    }
  ]
}