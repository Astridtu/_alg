{
  "nbformat": 4,
  "nbformat_minor": 0,
  "metadata": {
    "colab": {
      "provenance": [],
      "authorship_tag": "ABX9TyPpvtl+Ym4o/eUoiM8vK+gO",
      "include_colab_link": true
    },
    "kernelspec": {
      "name": "python3",
      "display_name": "Python 3"
    },
    "language_info": {
      "name": "python"
    }
  },
  "cells": [
    {
      "cell_type": "markdown",
      "metadata": {
        "id": "view-in-github",
        "colab_type": "text"
      },
      "source": [
        "<a href=\"https://colab.research.google.com/github/Astridtu/_alg/blob/master/Alg_Homework04.ipynb\" target=\"_parent\"><img src=\"https://colab.research.google.com/assets/colab-badge.svg\" alt=\"Open In Colab\"/></a>"
      ]
    },
    {
      "cell_type": "code",
      "execution_count": 1,
      "metadata": {
        "colab": {
          "base_uri": "https://localhost:8080/"
        },
        "id": "CWjN0K-8ijGs",
        "outputId": "c5d07015-2b99-4f86-da98-946c22926cef"
      },
      "outputs": [
        {
          "output_type": "stream",
          "name": "stdout",
          "text": [
            "Riemann Integral Approximation: 1.9999499999999708\n"
          ]
        }
      ],
      "source": [
        "import numpy as np\n",
        "\n",
        "# Define the function to integrate\n",
        "def integrand(x, y, z):\n",
        "    return 3 * x**2 + y**2 + 2 * z**2\n",
        "\n",
        "# Define the number of intervals for each axis (higher values for better accuracy)\n",
        "num_intervals = 100\n",
        "dx = dy = dz = 1.0 / num_intervals\n",
        "\n",
        "# Initialize the Riemann sum\n",
        "riemann_sum = 0.0\n",
        "\n",
        "# Loop over the grid points\n",
        "for i in range(num_intervals):\n",
        "    for j in range(num_intervals):\n",
        "        for k in range(num_intervals):\n",
        "            # Calculate the midpoint of each small cube in the grid\n",
        "            x = (i + 0.5) * dx\n",
        "            y = (j + 0.5) * dy\n",
        "            z = (k + 0.5) * dz\n",
        "            # Add the function value at the midpoint times the volume of the small cube\n",
        "            riemann_sum += integrand(x, y, z) * dx * dy * dz\n",
        "\n",
        "print(\"Riemann Integral Approximation:\", riemann_sum)\n"
      ]
    },
    {
      "cell_type": "code",
      "source": [
        "#Method Number 2\n",
        "import numpy as np\n",
        "\n",
        "# Define the function to integrate\n",
        "def integrand(x, y, z):\n",
        "    return 3 * x**2 + y**2 + 2 * z**2\n",
        "\n",
        "# Number of random points to sample (higher for better accuracy)\n",
        "num_samples = 100000\n",
        "\n",
        "# Generate random samples for x, y, z in the range [0, 1]\n",
        "x_random = np.random.uniform(0, 1, num_samples)\n",
        "y_random = np.random.uniform(0, 1, num_samples)\n",
        "z_random = np.random.uniform(0, 1, num_samples)\n",
        "\n",
        "# Evaluate the function at these random points\n",
        "function_values = integrand(x_random, y_random, z_random)\n",
        "\n",
        "# Compute the Monte Carlo estimate\n",
        "monte_carlo_integral = np.mean(function_values)\n",
        "\n",
        "print(\"Monte Carlo Integral Approximation:\", monte_carlo_integral)"
      ],
      "metadata": {
        "colab": {
          "base_uri": "https://localhost:8080/"
        },
        "id": "ous1BQzwivRy",
        "outputId": "31221ae0-4d53-4c99-cbf6-ef4a1a009151"
      },
      "execution_count": 2,
      "outputs": [
        {
          "output_type": "stream",
          "name": "stdout",
          "text": [
            "Monte Carlo Integral Approximation: 1.994779272134127\n"
          ]
        }
      ]
    },
    {
      "cell_type": "markdown",
      "source": [
        "方法解釋\n",
        "Riemann近似：這種方法將三維區域\n",
        "[\n",
        "0\n",
        ",\n",
        "1\n",
        "]\n",
        "3\n",
        "[0,1]\n",
        "3\n",
        "  分成小立方體，在每個小立方體的中點計算函數值，並將這些函數值乘以每個小立方體的體積\n",
        "(\n",
        "𝑑\n",
        "𝑥\n",
        "×\n",
        "𝑑\n",
        "𝑦\n",
        "×\n",
        "𝑑\n",
        "𝑧\n",
        ")\n",
        "(dx×dy×dz) 來逼近積分值。\n",
        "\n",
        "蒙地卡羅積分：此方法從區域\n",
        "[\n",
        "0\n",
        ",\n",
        "1\n",
        "]\n",
        "3\n",
        "[0,1]\n",
        "3\n",
        "  中均勻地隨機取樣點，在這些點上計算函數值，並取這些函數值的平均值。結果近似於該區域的積分，因為每個樣本點代表積分體積中的一個位置。\n",
        "\n",
        "\n",
        "\n",
        "\n",
        "\n",
        "\n",
        "\n",
        "\n"
      ],
      "metadata": {
        "id": "S874X8NCi7TL"
      }
    }
  ]
}